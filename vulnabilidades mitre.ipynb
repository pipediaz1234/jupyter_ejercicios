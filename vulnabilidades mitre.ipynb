{
 "cells": [
  {
   "cell_type": "code",
   "execution_count": 51,
   "id": "8348376f-d0d2-4025-b460-3ff46f2a23e0",
   "metadata": {},
   "outputs": [],
   "source": [
    "import requests\n",
    "import json\n",
    "import re\n",
    "from datetime import datetime"
   ]
  },
  {
   "cell_type": "code",
   "execution_count": 52,
   "id": "c2cfd840-9488-4682-ad04-aee5e7ad30e5",
   "metadata": {},
   "outputs": [],
   "source": [
    "nombre_software = 'Facebook' #coloca el nombre de tu software"
   ]
  },
  {
   "cell_type": "code",
   "execution_count": 53,
   "id": "4d319c10-eaef-4835-a649-7c14f27225d8",
   "metadata": {},
   "outputs": [],
   "source": [
    "MITRE_API_URL = 'https://cve.circl.lu/api/cve/' #uso api Mitre"
   ]
  },
  {
   "cell_type": "code",
   "execution_count": 54,
   "id": "bba95024-0357-4602-a9a6-27c1b2a79c63",
   "metadata": {},
   "outputs": [],
   "source": [
    "cve_ids = ['CVE-2016-3333'] #cves"
   ]
  },
  {
   "cell_type": "code",
   "execution_count": 55,
   "id": "6090cc25-7ed9-4787-9d6f-8703a9e9ec17",
   "metadata": {},
   "outputs": [],
   "source": [
    "#Funcion de consumo a la api de MITRE\n",
    "def obtener_datos_mitre(cve_id):\n",
    "    \"\"\"\n",
    "    Busca información sobre la vulnerabilidad en MITRE y extrae hasta tres CVEs relacionados si los hay.\n",
    "    \"\"\"\n",
    "    url = f'{MITRE_API_URL}{cve_id}'\n",
    "    try:\n",
    "        print(f\"Buscando información de la vulnerabilidad en MITRE: {cve_id}\")\n",
    "        response = requests.get(url)\n",
    "        response.raise_for_status()\n",
    "        cve_data = response.json()\n",
    "\n",
    "       \n",
    "        description = cve_data.get('summary', 'Descripción no disponible')\n",
    "\n",
    "        # Buscar otros CVEs mencionados en la descripción\n",
    "        cves_encontrados = re.findall(r'CVE-\\d{4}-\\d{4,7}', description)\n",
    "\n",
    "        # Limitar a los primeros tres CVEs encontrados\n",
    "        cves_relacionados = cves_encontrados[:3]\n",
    "\n",
    "        return {\n",
    "            \"CVE\": cve_id,\n",
    "            \"Descripcion\": description,\n",
    "            \"CVEs_Relacionados\": cves_relacionados\n",
    "        }\n",
    "    except requests.exceptions.RequestException as e:\n",
    "        print(f'Error al obtener la información de la vulnerabilidad en MITRE: {e}')\n",
    "        return None\n",
    "\n",
    "datos_json = {\n",
    "    \"nombre_software\": nombre_software,\n",
    "    \"date\": datetime.now().strftime(\"%Y-%m-%d\"),\n",
    "    \"vulnerabilidades\": []\n",
    "}\n",
    "\n",
    "\n",
    "\n"
   ]
  },
  {
   "cell_type": "code",
   "execution_count": 56,
   "id": "559bea8e-30f1-4c77-a1d1-2a44af9ae196",
   "metadata": {},
   "outputs": [
    {
     "data": {
      "text/plain": [
       "'\\nLa función consulta la API de MITRE usando un identificador CVE para obtener información sobre una vulnerabilidad.\\nDespués, analiza la descripción de la vulnerabilidad en busca de otros CVEs mencionados y los añade al resultado. \\nSe ejecuta un bucle sobre una lista de identificadores CVE, agregando la información de cada vulnerabilidad al diccionario de resultados.\\nEsto permite recopilar información sobre vulnerabilidades específicas y encontrar otras relacionadas.\\n'"
      ]
     },
     "execution_count": 56,
     "metadata": {},
     "output_type": "execute_result"
    }
   ],
   "source": [
    "\"\"\"\n",
    "La función consulta la API de MITRE usando un identificador CVE para obtener información sobre una vulnerabilidad.\n",
    "Después, analiza la descripción de la vulnerabilidad en busca de otros CVEs mencionados y los añade al resultado. \n",
    "Se ejecuta un bucle sobre una lista de identificadores CVE, agregando la información de cada vulnerabilidad al diccionario de resultados.\n",
    "Esto permite recopilar información sobre vulnerabilidades específicas y encontrar otras relacionadas.\n",
    "\"\"\""
   ]
  },
  {
   "cell_type": "code",
   "execution_count": 57,
   "id": "8a4d52cb-9c5d-4d08-8339-486cabd794fd",
   "metadata": {},
   "outputs": [
    {
     "name": "stdout",
     "output_type": "stream",
     "text": [
      "Buscando información de la vulnerabilidad en MITRE: CVE-2016-3333\n"
     ]
    }
   ],
   "source": [
    "for cve_id in cve_ids:\n",
    "    cve_info = obtener_datos_mitre(cve_id)\n",
    "    if cve_info:\n",
    "        datos_json[\"vulnerabilidades\"].append(cve_info)"
   ]
  },
  {
   "cell_type": "code",
   "execution_count": 58,
   "id": "f5819ded-41bb-469b-9333-838cc73f6559",
   "metadata": {},
   "outputs": [],
   "source": [
    "#Guardar la información en un archivo JSON\n",
    "with open('vulnerabilidades.json', 'w') as file:\n",
    "    json.dump(datos_json, file, indent=4)"
   ]
  },
  {
   "cell_type": "code",
   "execution_count": 59,
   "id": "710b45d6-06af-4e0d-9a71-b894ed805875",
   "metadata": {},
   "outputs": [
    {
     "name": "stdout",
     "output_type": "stream",
     "text": [
      "Proceso terminado. Los resultados se han guardado en el archivo 'vulnerabilidades.json'.\n"
     ]
    }
   ],
   "source": [
    "print(\"Proceso terminado. Los resultados se han guardado en el archivo 'vulnerabilidades.json'.\")"
   ]
  },
  {
   "cell_type": "code",
   "execution_count": 66,
   "id": "66607a4e-5e0b-4278-b08f-3391218ee30e",
   "metadata": {},
   "outputs": [
    {
     "name": "stdout",
     "output_type": "stream",
     "text": [
      "Buscando información de la vulnerabilidad en MITRE: CVE-2016-3333\n"
     ]
    },
    {
     "data": {
      "image/png": "[encoded data removed]",
      "text/plain": [
       "<Figure size 800x600 with 1 Axes>"
      ]
     },
     "metadata": {},
     "output_type": "display_data"
    }
   ],
   "source": [
    "import requests\n",
    "import json\n",
    "import re\n",
    "from datetime import datetime\n",
    "import matplotlib.pyplot as plt\n",
    "\n",
    "nombre_software = 'MySQL'  # Nombre del software\n",
    "MITRE_API_URL = 'https://cve.circl.lu/api/cve/'  # URL de la API de MITRE\n",
    "cve_ids = ['CVE-2016-3333']  # CVEs\n",
    "\n",
    "# Función para obtener datos de la API de MITRE\n",
    "def obtener_datos_mitre(cve_id):\n",
    "    url = f'{MITRE_API_URL}{cve_id}'\n",
    "    try:\n",
    "        print(f\"Buscando información de la vulnerabilidad en MITRE: {cve_id}\")\n",
    "        response = requests.get(url)\n",
    "        response.raise_for_status()\n",
    "        cve_data = response.json()\n",
    "\n",
    "        description = cve_data.get('summary', 'Descripción no disponible')\n",
    "\n",
    "        # Buscar otros CVEs mencionados en la descripción\n",
    "        cves_encontrados = re.findall(r'CVE-\\d{4}-\\d{4,7}', description)\n",
    "\n",
    "        # Limitar a los primeros tres CVEs encontrados\n",
    "        cves_relacionados = cves_encontrados[:3]\n",
    "\n",
    "        return {\n",
    "            \"CVE\": cve_id,\n",
    "            \"Descripcion\": description,\n",
    "            \"CVEs_Relacionados\": cves_relacionados\n",
    "        }\n",
    "    except requests.exceptions.RequestException as e:\n",
    "        print(f'Error al obtener la información de la vulnerabilidad en MITRE: {e}')\n",
    "        return None\n",
    "\n",
    "# Obtener información de las vulnerabilidades\n",
    "datos_json = {\n",
    "    \"nombre_software\": nombre_software,\n",
    "    \"date\": datetime.now().strftime(\"%Y-%m-%d\"),\n",
    "    \"vulnerabilidades\": []\n",
    "}\n",
    "for cve_id in cve_ids:\n",
    "    cve_info = obtener_datos_mitre(cve_id)\n",
    "    if cve_info:\n",
    "        datos_json[\"vulnerabilidades\"].append(cve_info)\n",
    "\n",
    "# Contadores para los niveles de gravedad\n",
    "alto = 0\n",
    "medio = 0\n",
    "bajo = 0\n",
    "\n",
    "# Analizar cada vulnerabilidad para determinar su nivel de gravedad y actualizar los contadores\n",
    "for vulnerabilidad in datos_json[\"vulnerabilidades\"]:\n",
    "    descripcion = vulnerabilidad[\"Descripcion\"].lower()\n",
    "    if \"grave\" in descripcion or \"alto\" in descripcion or \"critico\" in descripcion:\n",
    "        alto += 1\n",
    "    elif \"medio\" in descripcion:\n",
    "        medio += 1\n",
    "    elif \"bajo\" in descripcion or \"menor\" in descripcion:\n",
    "        bajo += 1\n",
    "\n",
    "# Graficar los datos\n",
    "categorias = ['Alto', 'Medio', 'Bajo']\n",
    "valores = [alto, medio, bajo]\n",
    "\n",
    "plt.figure(figsize=(8, 6))\n",
    "plt.bar(categorias, valores, color=['red', 'orange', 'green'])\n",
    "plt.title('Vulnerabilidades por nivel de gravedad')\n",
    "plt.xlabel('Nivel de gravedad')\n",
    "plt.ylabel('Número de vulnerabilidades')\n",
    "plt.show()\n"
   ]
  },
  {
   "cell_type": "code",
   "execution_count": null,
   "id": "f759227a-9bbe-4c6f-b6ad-12dad3517d43",
   "metadata": {},
   "outputs": [],
   "source": []
  }
 ],
 "metadata": {
  "kernelspec": {
   "display_name": "Python 3 (ipykernel)",
   "language": "python",
   "name": "python3"
  },
  "language_info": {
   "codemirror_mode": {
    "name": "ipython",
    "version": 3
   },
   "file_extension": ".py",
   "mimetype": "text/x-python",
   "name": "python",
   "nbconvert_exporter": "python",
   "pygments_lexer": "ipython3",
   "version": "3.12.2"
  }
 },
 "nbformat": 4,
 "nbformat_minor": 5
}
