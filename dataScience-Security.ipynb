{
 "cells": [
  {
   "cell_type": "markdown",
   "id": "745d8e01",
   "metadata": {},
   "source": [
    "imports of the program"
   ]
  },
  {
   "cell_type": "code",
   "execution_count": null,
   "id": "297782cb",
   "metadata": {},
   "outputs": [],
   "source": [
    "import azure.cosmos.documents as documents\n",
    "import azure.cosmos.cosmos_client as cosmos_client\n",
    "import azure.cosmos.exceptions as exceptions\n",
    "from azure.cosmos.partition_key import PartitionKey\n",
    "from datetime import datetime\n",
    "import requests, os"
   ]
  },
  {
   "cell_type": "code",
   "execution_count": null,
   "id": "e896addf",
   "metadata": {},
   "outputs": [],
   "source": [
    "settings = {\n",
    "    'host': os.environ.get('ACCOUNT_HOST', 'https://andresdia02.documents.azure.com:443/'),\n",
    "    'master_key': os.environ.get('ACCOUNT_KEY', ''),\n",
    "    'database_id': os.environ.get('COSMOS_DATABASE', ''),\n",
    "    'container_id': os.environ.get('COSMOS_CONTAINER', '')\n",
    "}\n",
    "\n",
    "#Asignación de valores a variables internas\n",
    "HOST = settings['host']\n",
    "MASTER_KEY = settings['master_key']\n",
    "DATABASE_ID = settings['database_id']\n",
    "CONTAINER_ID = settings['container_id']"
   ]
  },
  {
   "cell_type": "code",
   "execution_count": null,
   "id": "d31e6b66",
   "metadata": {},
   "outputs": [],
   "source": [
    "def create_items(container):\n",
    "    print('\\nCreating Items\\n')\n",
    "\n",
    "    tonData = secDataFormat(\"ip1\")\n",
    "    container.create_item(body=tonData)\n",
    "    tonData = secDataFormat(\"ip2\")\n",
    "    container.create_item(body=tonData)\n",
    "\n",
    "def secDataFormat(item_id):\n",
    "    headers = {'X-Key':'fd2c4031-0399-42f6-9c21-00b429348976'}\n",
    "    #data = requests.get(\"https://v1.cveapi.com/CVE-2019-9956.json\")\n",
    "    data = requests.get(\"https://api.binaryedge.io/v2/query/image/ip/10.157.11.119\",headers=headers)\n",
    "    consume = data.json()\n",
    "    dataS = {'id' : item_id,\n",
    "            'partitionKey' : 'Account1',\n",
    "            'date' : datetime.now().strftime('%Y-%m-%d %H:%M:%S'),\n",
    "            'VulnerabilityDesc' : consume\n",
    "            }\n",
    "\n",
    "    return dataS\n",
    "\n",
    "def delete_item(container, doc_id, account_number):\n",
    "    print('\\nDeleting Item by Id\\n')\n",
    "\n",
    "    response = container.delete_item(item=doc_id, partition_key=account_number)\n",
    "\n",
    "    print('Deleted item\\'s Id is {0}'.format(doc_id))\n",
    "\n",
    "def read_item(container, doc_id, account_number):\n",
    "    print('\\nReading Item by Id\\n')\n",
    "\n",
    "    # We can do an efficient point read lookup on partition key and id\n",
    "    response = container.read_item(item=doc_id, partition_key=account_number)\n",
    "\n",
    "    print('Item read by Id {0}'.format(doc_id))\n",
    "    print('Partition Key: {0}'.format(response.get('partitionKey')))\n",
    "    print('Description: {0}'.format(response.get('VulnerabilityDesc')))\n",
    "    \n",
    "def read_items(container):\n",
    "    print('\\nReading all items in a container\\n')\n",
    "\n",
    "    item_list = list(container.read_all_items(max_item_count=10))\n",
    "\n",
    "    print('Found {0} items'.format(item_list.__len__()))\n",
    "\n",
    "    for doc in item_list:\n",
    "        print('Item Id: {0}'.format(doc.get('id')))\n",
    "        \n",
    "def query_items(container, account_number):\n",
    "    print('\\nQuerying for an  Item by Partition Key\\n')\n",
    "\n",
    "    # Including the partition key value of account_number in the WHERE filter results in a more efficient query\n",
    "    items = list(container.query_items(\n",
    "        query=\"SELECT * FROM r WHERE r.partitionKey=@account_number\",\n",
    "        parameters=[\n",
    "            { \"name\":\"@account_number\", \"value\": account_number }\n",
    "        ]\n",
    "    ))\n",
    "\n",
    "    print('Item queried by Partition Key {0}'.format(items[0].get(\"id\")))\n",
    "\n",
    "def run_sample():\n",
    "    client = cosmos_client.CosmosClient(HOST, {'masterKey': MASTER_KEY}, user_agent=\"CosmosDBPythonQuickstart\", user_agent_overwrite=True)\n",
    "    try:\n",
    "        # setup database for this sample\n",
    "        try:\n",
    "            db = client.create_database(id=DATABASE_ID)\n",
    "            print('Database with id \\'{0}\\' created'.format(DATABASE_ID))\n",
    "\n",
    "        except exceptions.CosmosResourceExistsError:\n",
    "            db = client.get_database_client(DATABASE_ID)\n",
    "            print('Database with id \\'{0}\\' was found'.format(DATABASE_ID))\n",
    "\n",
    "        # setup container for this sample\n",
    "        try:\n",
    "            container = db.create_container(id=CONTAINER_ID, partition_key=PartitionKey(path='/partitionKey'))\n",
    "            print('Container with id \\'{0}\\' created'.format(CONTAINER_ID))\n",
    "\n",
    "        except exceptions.CosmosResourceExistsError:\n",
    "            container = db.get_container_client(CONTAINER_ID)\n",
    "            print('Container with id \\'{0}\\' was found'.format(CONTAINER_ID))\n",
    "\n",
    "    except exceptions.CosmosHttpResponseError as e:\n",
    "        print('\\nrun_sample has caught an error. {0}'.format(e.message))\n",
    "\n",
    "    finally:\n",
    "            print(\"\\nrun_sample done\")\n",
    "\n",
    "\n",
    "if __name__ == '__main__':\n",
    "    client = cosmos_client.CosmosClient(HOST, {'masterKey': MASTER_KEY}, user_agent=\"CosmosDBPythonQuickstart\", user_agent_overwrite=True)\n",
    "    try:\n",
    "        # setup database for this sample\n",
    "        try:\n",
    "            db = client.create_database(id=DATABASE_ID)\n",
    "            print('Database with id \\'{0}\\' created'.format(DATABASE_ID))\n",
    "\n",
    "        except exceptions.CosmosResourceExistsError:\n",
    "            db = client.get_database_client(DATABASE_ID)\n",
    "            print('Database with id \\'{0}\\' was found'.format(DATABASE_ID))\n",
    "\n",
    "        # setup container for this sample\n",
    "        try:\n",
    "            container = db.create_container(id=CONTAINER_ID, partition_key=PartitionKey(path='/partitionKey'))\n",
    "            print('Container with id \\'{0}\\' created'.format(CONTAINER_ID))\n",
    "\n",
    "        except exceptions.CosmosResourceExistsError:\n",
    "            container = db.get_container_client(CONTAINER_ID)\n",
    "            print('Container with id \\'{0}\\' was found'.format(CONTAINER_ID))\n",
    "\n",
    "    except exceptions.CosmosHttpResponseError as e:\n",
    "        print('\\nrun_sample has caught an error. {0}'.format(e.message))\n",
    "\n",
    "    finally:\n",
    "            print(\"\\nrun_sample done\")\n",
    "    "
   ]
  },
  {
   "cell_type": "code",
   "execution_count": null,
   "id": "c801cb20",
   "metadata": {},
   "outputs": [],
   "source": [
    "create_items(container)"
   ]
  },
  {
   "cell_type": "code",
   "execution_count": null,
   "id": "d9d53f5c",
   "metadata": {},
   "outputs": [],
   "source": [
    "read_item(container, 'ip1', 'Account1')\n",
    "read_item(container, 'ip2', 'Account1')\n",
    "read_items(container)"
   ]
  },
  {
   "cell_type": "code",
   "execution_count": null,
   "id": "d947198a",
   "metadata": {},
   "outputs": [],
   "source": [
    "query_items(container, 'Account1')"
   ]
  },
  {
   "cell_type": "code",
   "execution_count": null,
   "id": "aa9fd376",
   "metadata": {},
   "outputs": [],
   "source": [
    "headers = {'X-Key':''}\n",
    "data = requests.get(\"https://api.binaryedge.io/v2/query/search/stats?query=ip:104.18.37.228&type=ports\",headers=headers)\n",
    "print(data.json())"
   ]
  },
  {
   "cell_type": "code",
   "execution_count": null,
   "id": "3db70959",
   "metadata": {},
   "outputs": [],
   "source": [
    "db.create_container(id=\"104.18.37.228\", partition_key=PartitionKey(path='/partitionKey'))"
   ]
  },
  {
   "cell_type": "code",
   "execution_count": null,
   "id": "c865bf8d",
   "metadata": {},
   "outputs": [],
   "source": [
    "dataS = {'id' : \"ports1\",\n",
    "            'partitionKey' : 'Account1',\n",
    "            'date' : datetime.now().strftime('%Y-%m-%d %H:%M:%S'),\n",
    "            'portsDescription' : data.json()\n",
    "            }"
   ]
  },
  {
   "cell_type": "code",
   "execution_count": null,
   "id": "d0b816aa",
   "metadata": {},
   "outputs": [],
   "source": [
    "print(dataS)"
   ]
  },
  {
   "cell_type": "code",
   "execution_count": null,
   "id": "0d7d906d",
   "metadata": {},
   "outputs": [],
   "source": [
    "container.create_item(body=dataS)"
   ]
  },
  {
   "cell_type": "code",
   "execution_count": null,
   "id": "93ba1650",
   "metadata": {},
   "outputs": [],
   "source": []
  }
 ],
 "metadata": {
  "kernelspec": {
   "display_name": "Python 3 (ipykernel)",
   "language": "python",
   "name": "python3"
  },
  "language_info": {
   "codemirror_mode": {
    "name": "ipython",
    "version": 3
   },
   "file_extension": ".py",
   "mimetype": "text/x-python",
   "name": "python",
   "nbconvert_exporter": "python",
   "pygments_lexer": "ipython3",
   "version": "3.12.2"
  }
 },
 "nbformat": 4,
 "nbformat_minor": 5
}
