{
 "cells": [
  {
   "cell_type": "code",
   "execution_count": 8,
   "id": "6e02c899",
   "metadata": {},
   "outputs": [],
   "source": [
    "import azure.cosmos.documents as documents\n",
    "import azure.cosmos.cosmos_client as cosmos_client\n",
    "import azure.cosmos.exceptions as exceptions\n",
    "from azure.cosmos.partition_key import PartitionKey\n",
    "import requests, os, json\n",
    "import matplotlib.pyplot as plt"
   ]
  },
  {
   "cell_type": "code",
   "execution_count": 2,
   "id": "73ad1352",
   "metadata": {},
   "outputs": [],
   "source": [
    "# Define un diccionario llamado \"settings\" que contiene la configuración para Azure Cosmos DB\n",
    "settings = {\n",
    "    'database_id': os.environ.get('COSMOS_DATABASE', 'Software'),  # Obtiene el nombre de la base de datos de la variable de entorno COSMOS_DATABASE, si no está definida, utiliza un valor predeterminado\n",
    "    'container_id': os.environ.get('COSMOS_CONTAINER','Registros_cvss')  # Obtiene el nombre del contenedor de la variable de entorno COSMOS_CONTAINER, si no está definida, utiliza un valor predeterminado\n",
    "}\n",
    "\n",
    "# Asigna los valores de la configuración a variables individuales para facilitar su uso\n",
    "HOST = settings['host']  # La URL del servicio de Azure Cosmos DB\n",
    "MASTER_KEY = settings['master_key']  # La clave maestra para acceder al servicio de Azure Cosmos DB\n",
    "DATABASE_ID = settings['database_id']  # El ID de la base de datos en Azure Cosmos DB\n",
    "CONTAINER_ID = settings['container_id']  # El ID del contenedor en Azure Cosmos DB\n"
   ]
  },
  {
   "cell_type": "code",
   "execution_count": 3,
   "id": "2692780c",
   "metadata": {},
   "outputs": [],
   "source": [
    "client = cosmos_client.CosmosClient(HOST, {'masterKey': MASTER_KEY}, user_agent=\"CosmosDBPythonQuickstart\", user_agent_overwrite=True)"
   ]
  },
  {
   "cell_type": "code",
   "execution_count": 4,
   "id": "4d98f1e8",
   "metadata": {},
   "outputs": [],
   "source": [
    "def consumeApi(vulnId):\n",
    "    endPoint = f'https://services.nvd.nist.gov/rest/json/cves/2.0?cveId={vulnId}'\n",
    "    headers = {\n",
    "    }\n",
    "    infoVuln = requests.get(endPoint,headers = headers)\n",
    "    return infoVuln\n"
   ]
  },
  {
   "cell_type": "code",
   "execution_count": 6,
   "id": "8136463c",
   "metadata": {
    "scrolled": false
   },
   "outputs": [
    {
     "name": "stdout",
     "output_type": "stream",
     "text": [
      "HIGH:  1  MEDIUM:  0  LOW:  0  OTHER:  0\n",
      "HIGH:  1  MEDIUM:  1  LOW:  0  OTHER:  0\n",
      "HIGH:  2  MEDIUM:  1  LOW:  0  OTHER:  0\n",
      "HIGH:  2  MEDIUM:  2  LOW:  0  OTHER:  0\n",
      "HIGH:  2  MEDIUM:  3  LOW:  0  OTHER:  0\n",
      "HIGH:  3  MEDIUM:  3  LOW:  0  OTHER:  0\n",
      "HIGH:  3  MEDIUM:  4  LOW:  0  OTHER:  0\n",
      "HIGH:  4  MEDIUM:  4  LOW:  0  OTHER:  0\n",
      "HIGH:  5  MEDIUM:  4  LOW:  0  OTHER:  0\n",
      "HIGH:  6  MEDIUM:  4  LOW:  0  OTHER:  0\n"
     ]
    },
    {
     "ename": "KeyError",
     "evalue": "'cvssMetricV2'",
     "output_type": "error",
     "traceback": [
      "\u001b[1;31m---------------------------------------------------------------------------\u001b[0m",
      "\u001b[1;31mKeyError\u001b[0m                                  Traceback (most recent call last)",
      "Input \u001b[1;32mIn [6]\u001b[0m, in \u001b[0;36m<module>\u001b[1;34m\u001b[0m\n\u001b[0;32m      9\u001b[0m \u001b[38;5;28;01mfor\u001b[39;00m response \u001b[38;5;129;01min\u001b[39;00m response:\n\u001b[0;32m     10\u001b[0m     \u001b[38;5;66;03m#print(json.dumps(response['vulnerabilidad']['cve_id'],indent=2))\u001b[39;00m\n\u001b[0;32m     11\u001b[0m     impact \u001b[38;5;241m=\u001b[39m consumeApi(response[\u001b[38;5;124m'\u001b[39m\u001b[38;5;124mvulnerabilidad\u001b[39m\u001b[38;5;124m'\u001b[39m][\u001b[38;5;124m'\u001b[39m\u001b[38;5;124mcve_id\u001b[39m\u001b[38;5;124m'\u001b[39m])\n\u001b[1;32m---> 12\u001b[0m     impact \u001b[38;5;241m=\u001b[39m \u001b[43mimpact\u001b[49m\u001b[38;5;241;43m.\u001b[39;49m\u001b[43mjson\u001b[49m\u001b[43m(\u001b[49m\u001b[43m)\u001b[49m\u001b[43m[\u001b[49m\u001b[38;5;124;43m\"\u001b[39;49m\u001b[38;5;124;43mvulnerabilities\u001b[39;49m\u001b[38;5;124;43m\"\u001b[39;49m\u001b[43m]\u001b[49m\u001b[43m[\u001b[49m\u001b[38;5;241;43m0\u001b[39;49m\u001b[43m]\u001b[49m\u001b[43m[\u001b[49m\u001b[38;5;124;43m\"\u001b[39;49m\u001b[38;5;124;43mcve\u001b[39;49m\u001b[38;5;124;43m\"\u001b[39;49m\u001b[43m]\u001b[49m\u001b[43m[\u001b[49m\u001b[38;5;124;43m\"\u001b[39;49m\u001b[38;5;124;43mmetrics\u001b[39;49m\u001b[38;5;124;43m\"\u001b[39;49m\u001b[43m]\u001b[49m\u001b[43m[\u001b[49m\u001b[38;5;124;43m\"\u001b[39;49m\u001b[38;5;124;43mcvssMetricV2\u001b[39;49m\u001b[38;5;124;43m\"\u001b[39;49m\u001b[43m]\u001b[49m[\u001b[38;5;241m0\u001b[39m][\u001b[38;5;124m\"\u001b[39m\u001b[38;5;124mbaseSeverity\u001b[39m\u001b[38;5;124m\"\u001b[39m]\n\u001b[0;32m     13\u001b[0m     \u001b[38;5;28;01mif\u001b[39;00m impact \u001b[38;5;241m==\u001b[39m \u001b[38;5;124m\"\u001b[39m\u001b[38;5;124mHIGH\u001b[39m\u001b[38;5;124m\"\u001b[39m:\n\u001b[0;32m     14\u001b[0m         HIGH \u001b[38;5;241m=\u001b[39mHIGH \u001b[38;5;241m+\u001b[39m \u001b[38;5;241m1\u001b[39m\n",
      "\u001b[1;31mKeyError\u001b[0m: 'cvssMetricV2'"
     ]
    }
   ],
   "source": [
    "db = client.get_database_client(DATABASE_ID)\n",
    "container = db.get_container_client(CONTAINER_ID)\n",
    "query = \"SELECT * FROM c WHERE c.partitionKey = '1'\"\n",
    "response = container.query_items(query, enable_cross_partition_query=True)\n",
    "HIGH = 0\n",
    "MEDIUM = 0\n",
    "LOW = 0\n",
    "OTHER = 0\n",
    "for response in response:\n",
    "    #print(json.dumps(response['vulnerabilidad']['cve_id'],indent=2))\n",
    "    impact = consumeApi(response['vulnerabilidad']['cve_id'])\n",
    "    impact = impact.json()[\"vulnerabilities\"][0][\"cve\"][\"metrics\"][\"cvssMetricV2\"][0][\"baseSeverity\"]\n",
    "    if impact == \"HIGH\":\n",
    "        HIGH =HIGH + 1\n",
    "    elif impact == \"MEDIUM\":\n",
    "        MEDIUM =MEDIUM + 1\n",
    "    elif impact == \"LOW\":\n",
    "        LOW =LOW + 1\n",
    "    else:\n",
    "        OTHER = OTHER + 1\n",
    "    print(\"HIGH: \",HIGH,\" MEDIUM: \",MEDIUM,\" LOW: \",LOW,\" OTHER: \",OTHER)\n",
    "    #print(json.dumps(impact.json()['baseSeverity'],indent=2))"
   ]
  },
  {
   "cell_type": "code",
   "execution_count": 9,
   "id": "6c5146f1",
   "metadata": {},
   "outputs": [
    {
     "data": {
      "image/png": "[encoded data removed]",
      "text/plain": [
       "<Figure size 720x360 with 1 Axes>"
      ]
     },
     "metadata": {
      "needs_background": "light"
     },
     "output_type": "display_data"
    }
   ],
   "source": [
    "# Datos para el gráfico\n",
    "categorias = ['High', 'Medium', 'Low']\n",
    "valores = [HIGH, MEDIUM, LOW]\n",
    "\n",
    "# Crear gráfico de barras\n",
    "plt.figure(figsize=(10, 5))\n",
    "plt.bar(categorias, valores, color=['red', 'orange', 'green'])\n",
    "\n",
    "# Añadir título y etiquetas a los ejes\n",
    "plt.title('Impact by vulnerabilities criticity')\n",
    "plt.xlabel('Criticity')\n",
    "plt.ylabel('Impact')\n",
    "\n",
    "# Mostrar el gráfico\n",
    "plt.show()"
   ]
  },
  {
   "cell_type": "code",
   "execution_count": null,
   "id": "0d2008fb",
   "metadata": {},
   "outputs": [],
   "source": []
  }
 ],
 "metadata": {
  "kernelspec": {
   "display_name": "Python 3 (ipykernel)",
   "language": "python",
   "name": "python3"
  },
  "language_info": {
   "codemirror_mode": {
    "name": "ipython",
    "version": 3
   },
   "file_extension": ".py",
   "mimetype": "text/x-python",
   "name": "python",
   "nbconvert_exporter": "python",
   "pygments_lexer": "ipython3",
   "version": "3.9.13"
  }
 },
 "nbformat": 4,
 "nbformat_minor": 5
}
