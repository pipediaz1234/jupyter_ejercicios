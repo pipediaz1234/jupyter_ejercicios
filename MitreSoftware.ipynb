{
 "cells": [
  {
   "cell_type": "markdown",
   "id": "0d9ec403-c92f-44e8-b782-44b7d7e278d7",
   "metadata": {},
   "source": [
    "## Imports"
   ]
  },
  {
   "cell_type": "code",
   "execution_count": 1,
   "id": "8348376f-d0d2-4025-b460-3ff46f2a23e0",
   "metadata": {},
   "outputs": [],
   "source": [
    "import requests\n",
    "import json\n",
    "import re\n",
    "from datetime import datetime"
   ]
  },
  {
   "cell_type": "markdown",
   "id": "4b3ceb11-c5b6-402d-bfc9-caec7db64710",
   "metadata": {},
   "source": [
    "### coloca el nombre de tu software"
   ]
  },
  {
   "cell_type": "code",
   "execution_count": 2,
   "id": "c2cfd840-9488-4682-ad04-aee5e7ad30e5",
   "metadata": {},
   "outputs": [],
   "source": [
    "nombre_software = 'Google'"
   ]
  },
  {
   "cell_type": "markdown",
   "id": "2036dea0-9bbe-4f29-b4d4-a15f1f084bfb",
   "metadata": {},
   "source": [
    "### uso api Mitre"
   ]
  },
  {
   "cell_type": "code",
   "execution_count": 3,
   "id": "4d319c10-eaef-4835-a649-7c14f27225d8",
   "metadata": {},
   "outputs": [],
   "source": [
    "MITRE_API_URL = 'https://cve.circl.lu/api/cve/'"
   ]
  },
  {
   "cell_type": "markdown",
   "id": "c27cba7a-ed7c-4f9e-99e1-9f89a2510b65",
   "metadata": {},
   "source": [
    "### Lista de ejemplo de CVEs. Reemplázala con CVEs reales de tu interés."
   ]
  },
  {
   "cell_type": "code",
   "execution_count": 4,
   "id": "bba95024-0357-4602-a9a6-27c1b2a79c63",
   "metadata": {},
   "outputs": [],
   "source": [
    "cve_ids = ['CVE-2016-3333']"
   ]
  },
  {
   "cell_type": "markdown",
   "id": "2e6e37d9-d4ea-4415-9d4d-dc226455f093",
   "metadata": {},
   "source": [
    "## Funcion de consumo a la api de MITRE"
   ]
  },
  {
   "cell_type": "code",
   "execution_count": 5,
   "id": "6090cc25-7ed9-4787-9d6f-8703a9e9ec17",
   "metadata": {},
   "outputs": [],
   "source": [
    "\n",
    "def obtener_datos_mitre(cve_id):\n",
    "    \"\"\"\n",
    "    Busca información sobre la vulnerabilidad en MITRE y extrae hasta tres CVEs relacionados si los hay.\n",
    "    \"\"\"\n",
    "    url = f'{MITRE_API_URL}{cve_id}'\n",
    "    try:\n",
    "        print(f\"Buscando información de la vulnerabilidad en MITRE: {cve_id}\")\n",
    "        response = requests.get(url)\n",
    "        response.raise_for_status()\n",
    "        cve_data = response.json()\n",
    "\n",
    "       \n",
    "        description = cve_data.get('summary', 'Descripción no disponible')\n",
    "\n",
    "        # Buscar otros CVEs mencionados en la descripción\n",
    "        cves_encontrados = re.findall(r'CVE-\\d{4}-\\d{4,7}', description)\n",
    "\n",
    "        # Limitar a los primeros tres CVEs encontrados\n",
    "        cves_relacionados = cves_encontrados[:3]\n",
    "\n",
    "        return {\n",
    "            \"CVE\": cve_id,\n",
    "            \"Descripcion\": description,\n",
    "            \"CVEs_Relacionados\": cves_relacionados\n",
    "        }\n",
    "    except requests.exceptions.RequestException as e:\n",
    "        print(f'Error al obtener la información de la vulnerabilidad en MITRE: {e}')\n",
    "        return None\n",
    "\n",
    "datos_json = {\n",
    "    \"nombre_software\": nombre_software,\n",
    "    \"date\": datetime.now().strftime(\"%Y-%m-%d\"),\n",
    "    \"vulnerabilidades\": []\n",
    "}\n",
    "\n",
    "\n",
    "\n"
   ]
  },
  {
   "cell_type": "markdown",
   "id": "bc309226-c962-4891-94ab-8a8cd8172662",
   "metadata": {},
   "source": [
    "## Explicacion"
   ]
  },
  {
   "cell_type": "markdown",
   "id": "c0a552b0-8e2c-4cab-b2ba-34377db62ee4",
   "metadata": {},
   "source": [
    "```\n",
    "Esta función realiza la consulta a la API de MITRE para obtener información sobre una vulnerabilidad específica. Toma un identificador CVE como entrada, realiza una solicitud GET a la API y extrae la descripción de la vulnerabilidad, así como los CVEs relacionados mencionados en la descripción. Luego, retorna un diccionario con esta información.\r\n",
    "\r\n",
    "```"
   ]
  },
  {
   "cell_type": "markdown",
   "id": "7bc586e1-f869-43e4-8697-f1e095d22b53",
   "metadata": {},
   "source": [
    "``` Esta función realiza la consulta a la API de MITRE para obtener información sobre una vulnerabilidad específica. Toma un identificador CVE como entrada, realiza una solicitud GET a la API y extrae la descripción de la vulnerabilidad, así como los CVEs relacionados mencionados en la descripción. Luego, retorna un diccionario con esta información."
   ]
  },
  {
   "cell_type": "markdown",
   "id": "38e14b62-78a8-4e34-a936-ca6ad08ff291",
   "metadata": {},
   "source": [
    "```\n",
    "Iteramos sobre cada CVE en la lista cve_ids y llamamos a la función obtener_datos_mitre para obtener la información de la vulnerabilidad correspondiente. Si se obtiene la información correctamente, se agrega al diccionario datos_json bajo la clave \"vulnerabilidades\".\n",
    "```"
   ]
  },
  {
   "cell_type": "code",
   "execution_count": 6,
   "id": "8a4d52cb-9c5d-4d08-8339-486cabd794fd",
   "metadata": {},
   "outputs": [
    {
     "name": "stdout",
     "output_type": "stream",
     "text": [
      "Buscando información de la vulnerabilidad en MITRE: CVE-2016-3333\n"
     ]
    }
   ],
   "source": [
    "for cve_id in cve_ids:\n",
    "    cve_info = obtener_datos_mitre(cve_id)\n",
    "    if cve_info:\n",
    "        datos_json[\"vulnerabilidades\"].append(cve_info)"
   ]
  },
  {
   "cell_type": "markdown",
   "id": "592856fb-99ab-4d1e-97ec-fdbdb498bdae",
   "metadata": {},
   "source": [
    "### Guardar la información en un archivo JSON"
   ]
  },
  {
   "cell_type": "code",
   "execution_count": 7,
   "id": "f5819ded-41bb-469b-9333-838cc73f6559",
   "metadata": {},
   "outputs": [],
   "source": [
    "with open('vulnerabilidades.json', 'w') as file:\n",
    "    json.dump(datos_json, file, indent=4)"
   ]
  },
  {
   "cell_type": "markdown",
   "id": "714ec24a-e819-43e2-8cae-99e35b2bfa68",
   "metadata": {},
   "source": [
    "# Finaliza el proceso"
   ]
  },
  {
   "cell_type": "code",
   "execution_count": 8,
   "id": "710b45d6-06af-4e0d-9a71-b894ed805875",
   "metadata": {},
   "outputs": [
    {
     "name": "stdout",
     "output_type": "stream",
     "text": [
      "Proceso terminado. Los resultados se han guardado en el archivo 'vulnerabilidades.json'.\n"
     ]
    }
   ],
   "source": [
    "print(\"Proceso terminado. Los resultados se han guardado en el archivo 'vulnerabilidades.json'.\")"
   ]
  }
 ],
 "metadata": {
  "kernelspec": {
   "display_name": "Python 3 (ipykernel)",
   "language": "python",
   "name": "python3"
  },
  "language_info": {
   "codemirror_mode": {
    "name": "ipython",
    "version": 3
   },
   "file_extension": ".py",
   "mimetype": "text/x-python",
   "name": "python",
   "nbconvert_exporter": "python",
   "pygments_lexer": "ipython3",
   "version": "3.12.2"
  }
 },
 "nbformat": 4,
 "nbformat_minor": 5
}
