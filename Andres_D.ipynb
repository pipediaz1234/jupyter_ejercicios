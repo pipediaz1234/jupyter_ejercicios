{
 "cells": [
  {
   "cell_type": "code",
   "execution_count": 9,
   "id": "3a8f1b79-9216-4e2d-a8f7-65c910d8c97e",
   "metadata": {},
   "outputs": [],
   "source": [
    "import requests as api, os\n",
    "import json\n",
    "import time"
   ]
  },
  {
   "cell_type": "code",
   "execution_count": 11,
   "id": "6f64178c-f6e1-4619-a789-2c4e0b1b8091",
   "metadata": {},
   "outputs": [],
   "source": [
    "cve = {}\n",
    "mit = {}"
   ]
  },
  {
   "cell_type": "code",
   "execution_count": 12,
   "id": "46612155-f636-4e95-852d-562f79c79273",
   "metadata": {},
   "outputs": [
    {
     "name": "stdout",
     "output_type": "stream",
     "text": [
      "Busqueda del software\n",
      "funcion impAzure\n",
      "busqueda en mitres\n",
      "la url es: https://cveawg.mitre.org/api/cve/CVE-2024-2409\n"
     ]
    },
    {
     "ename": "NameError",
     "evalue": "name 'requests' is not defined",
     "output_type": "error",
     "traceback": [
      "\u001b[1;31m---------------------------------------------------------------------------\u001b[0m",
      "\u001b[1;31mNameError\u001b[0m                                 Traceback (most recent call last)",
      "Cell \u001b[1;32mIn[12], line 5\u001b[0m\n\u001b[0;32m      3\u001b[0m buscar_software(\u001b[38;5;124m'\u001b[39m\u001b[38;5;124mWordPress\u001b[39m\u001b[38;5;124m'\u001b[39m)\n\u001b[0;32m      4\u001b[0m \u001b[38;5;66;03m#2. concatenar los datos obtenidos para despues guardarlos\u001b[39;00m\n\u001b[1;32m----> 5\u001b[0m \u001b[43mimpAzure\u001b[49m\u001b[43m(\u001b[49m\u001b[43m)\u001b[49m\n\u001b[0;32m      6\u001b[0m \u001b[38;5;66;03m#3.imrpimr los datos se guaradan en el diccionario mit, este paso se puede saltar, no es necesario, solo es para observar el resultado\u001b[39;00m\n\u001b[0;32m      7\u001b[0m \u001b[38;5;66;03m#ya que aun no se puede guaradar nada en azure \u001b[39;00m\n\u001b[0;32m      8\u001b[0m \u001b[38;5;28mprint\u001b[39m(json\u001b[38;5;241m.\u001b[39mdumps(mit,indent\u001b[38;5;241m=\u001b[39m\u001b[38;5;241m2\u001b[39m))\n",
      "Cell \u001b[1;32mIn[4], line 43\u001b[0m, in \u001b[0;36mimpAzure\u001b[1;34m()\u001b[0m\n\u001b[0;32m     41\u001b[0m         cont \u001b[38;5;241m=\u001b[39m \u001b[38;5;241m0\u001b[39m\n\u001b[0;32m     42\u001b[0m    \u001b[38;5;66;03m# print(item)\u001b[39;00m\n\u001b[1;32m---> 43\u001b[0m     \u001b[43mapiMitres\u001b[49m\u001b[43m(\u001b[49m\u001b[43mitem\u001b[49m\u001b[43m)\u001b[49m\n\u001b[0;32m     44\u001b[0m \u001b[38;5;28mprint\u001b[39m(\u001b[38;5;124m'\u001b[39m\u001b[38;5;124mproceso termiando\u001b[39m\u001b[38;5;124m'\u001b[39m)\n",
      "Cell \u001b[1;32mIn[4], line 24\u001b[0m, in \u001b[0;36mapiMitres\u001b[1;34m(cve_id)\u001b[0m\n\u001b[0;32m     22\u001b[0m url \u001b[38;5;241m=\u001b[39m \u001b[38;5;124mf\u001b[39m\u001b[38;5;124m'\u001b[39m\u001b[38;5;132;01m{\u001b[39;00mbase_url\u001b[38;5;132;01m}\u001b[39;00m\u001b[38;5;124m/\u001b[39m\u001b[38;5;132;01m{\u001b[39;00mcve_id\u001b[38;5;132;01m}\u001b[39;00m\u001b[38;5;124m'\u001b[39m\n\u001b[0;32m     23\u001b[0m \u001b[38;5;28mprint\u001b[39m(\u001b[38;5;124mf\u001b[39m\u001b[38;5;124m\"\u001b[39m\u001b[38;5;124mla url es: \u001b[39m\u001b[38;5;132;01m{\u001b[39;00murl\u001b[38;5;132;01m}\u001b[39;00m\u001b[38;5;124m\"\u001b[39m)\n\u001b[1;32m---> 24\u001b[0m respuesta \u001b[38;5;241m=\u001b[39m \u001b[43mrequests\u001b[49m\u001b[38;5;241m.\u001b[39mget(url)\n\u001b[0;32m     25\u001b[0m \u001b[38;5;28;01mif\u001b[39;00m respuesta\u001b[38;5;241m.\u001b[39mstatus_code \u001b[38;5;241m==\u001b[39m \u001b[38;5;241m200\u001b[39m:\n\u001b[0;32m     26\u001b[0m     cve_data \u001b[38;5;241m=\u001b[39m respuesta\u001b[38;5;241m.\u001b[39mjson()\n",
      "\u001b[1;31mNameError\u001b[0m: name 'requests' is not defined"
     ]
    }
   ],
   "source": [
    "#hay que hacer los pasos al pie de la letra para que funcione correctamenet \n",
    "#1. buscar el software que se quiere \n",
    "buscar_software('WordPress')\n",
    "#2. concatenar los datos obtenidos para despues guardarlos\n",
    "impAzure()\n",
    "#3.imrpimr los datos se guaradan en el diccionario mit, este paso se puede saltar, no es necesario, solo es para observar el resultado\n",
    "#ya que aun no se puede guaradar nada en azure \n",
    "print(json.dumps(mit,indent=2))\n",
    "print(\"proceso termiando\")\n"
   ]
  },
  {
   "cell_type": "code",
   "execution_count": null,
   "id": "03183bff-3202-429f-bcf2-186b40da3b6b",
   "metadata": {},
   "outputs": [],
   "source": [
    "def buscar_software(nombre):\n",
    "     url = \"https://vuldb.com/?api\"\n",
    "     datos = {\n",
    "        \"apikey\": 'd4b1faf2f559d471c25b0cd418097913',\n",
    "        \"search\": nombre\n",
    "        }\n",
    "     try:  \n",
    "            print(\"Busqueda del software\")\n",
    "            respuesta = api.post(url, data=datos)\n",
    "            objeto = respuesta.json()\n",
    "           \n",
    "            \n",
    "            for item in objeto['result']:\n",
    "                 cve[item['source']['cve']['id']] = item['vulnerability']\n",
    "           # print(json.dumps(cve,indent=2))\n",
    "     except requests.exceptions.RequestException as e:\n",
    "            print(f'Error en la solicitud: {e}')\n",
    "\n",
    "def apiMitres(cve_id):\n",
    "        print('busqueda en mitres')\n",
    "        base_url = 'https://cveawg.mitre.org/api/cve'\n",
    "        url = f'{base_url}/{cve_id}'\n",
    "        print(f\"la url es: {url}\")\n",
    "        respuesta = requests.get(url)\n",
    "        if respuesta.status_code == 200:\n",
    "            cve_data = respuesta.json()\n",
    "         #   print(cve_data)\n",
    "            if 'descriptions' in cve_data['containers']['cna']:\n",
    "                mit[cve_id] = {'descripcion':cve_data['containers']['cna']['descriptions'],'score':cve[cve_id]}\n",
    "            else:\n",
    "                mit[cve_id] = {'descripcion':None,'score':cve[cve_id]}\n",
    "        else:\n",
    "            print('Error al obtener la información de la vulnerabilidad')\n",
    "def impAzure():\n",
    "    cont = 0\n",
    "    print(\"funcion impAzure\")\n",
    "    for item in cve:\n",
    "        cont += 1\n",
    "        if cont > 20:\n",
    "            time.sleep(50)\n",
    "            cont = 0\n",
    "       # print(item)\n",
    "        apiMitres(item)\n",
    "    print('proceso termiando')\n",
    "        \n",
    "    "
   ]
  },
  {
   "cell_type": "code",
   "execution_count": null,
   "id": "b6246d24-9241-4498-84d1-1c5812a0a9e1",
   "metadata": {},
   "outputs": [],
   "source": []
  },
  {
   "cell_type": "code",
   "execution_count": null,
   "id": "f306cb31-02a0-49dd-85ea-4a25e98cc0ea",
   "metadata": {},
   "outputs": [],
   "source": []
  },
  {
   "cell_type": "code",
   "execution_count": null,
   "id": "2f3a121a-974f-4659-8557-12508560d71b",
   "metadata": {},
   "outputs": [],
   "source": []
  }
 ],
 "metadata": {
  "kernelspec": {
   "display_name": "Python 3 (ipykernel)",
   "language": "python",
   "name": "python3"
  },
  "language_info": {
   "codemirror_mode": {
    "name": "ipython",
    "version": 3
   },
   "file_extension": ".py",
   "mimetype": "text/x-python",
   "name": "python",
   "nbconvert_exporter": "python",
   "pygments_lexer": "ipython3",
   "version": "3.12.2"
  }
 },
 "nbformat": 4,
 "nbformat_minor": 5
}
